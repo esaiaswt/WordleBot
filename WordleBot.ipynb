{
  "nbformat": 4,
  "nbformat_minor": 0,
  "metadata": {
    "colab": {
      "provenance": []
    },
    "kernelspec": {
      "name": "python3",
      "display_name": "Python 3"
    },
    "language_info": {
      "name": "python"
    }
  },
  "cells": [
    {
      "cell_type": "markdown",
      "source": [
        "# Wordle Bot\n",
        "\n",
        "A Natural Language Processing Bot to solve Wordle puzzle.\n",
        "\n",
        "**References**:\n",
        "1.  https://www.pythonprogramming.in/find-frequency-of-each-word-from-a-text-file-using-nltk.html\n",
        "2. https://mathspp.com/blog/solving-wordle-with-python\n"
      ],
      "metadata": {
        "id": "03lpi2OAaZLE"
      }
    },
    {
      "cell_type": "markdown",
      "source": [
        "# Import NLTK Corpus\n",
        "\n",
        "We are using Webtext and ABC corpus of Natural Language Toolkit (NTLK)."
      ],
      "metadata": {
        "id": "LHuqniQIkaZO"
      }
    },
    {
      "cell_type": "code",
      "source": [
        "import nltk\n",
        "from nltk.corpus import webtext, abc\n",
        "from nltk.probability import FreqDist\n",
        "\n",
        "nltk.download('webtext')\n",
        "nltk.download('abc')"
      ],
      "metadata": {
        "colab": {
          "base_uri": "https://localhost:8080/"
        },
        "id": "3y5pN57uaVLI",
        "outputId": "c0a76059-0f1a-43c6-a400-aa5c6fc5150a"
      },
      "execution_count": 1,
      "outputs": [
        {
          "output_type": "stream",
          "name": "stderr",
          "text": [
            "[nltk_data] Downloading package webtext to /root/nltk_data...\n",
            "[nltk_data]   Package webtext is already up-to-date!\n",
            "[nltk_data] Downloading package abc to /root/nltk_data...\n",
            "[nltk_data]   Package abc is already up-to-date!\n"
          ]
        },
        {
          "output_type": "execute_result",
          "data": {
            "text/plain": [
              "True"
            ]
          },
          "metadata": {},
          "execution_count": 1
        }
      ]
    },
    {
      "cell_type": "markdown",
      "source": [
        "# Utility Functions\n",
        "1. SameLetterInWord() - Check whether there is same letter in the word\n",
        "2. FindHighestFreqWord() - Find the highest frequency word in a list\n"
      ],
      "metadata": {
        "id": "DBcz39IDlKVl"
      }
    },
    {
      "cell_type": "code",
      "source": [
        "# Check whether there is same letter in the word\n",
        "def SameLetterInWord(word):\n",
        "  ret = False\n",
        "  for i in range(len(word)):\n",
        "    for j in range(len(word)):\n",
        "      if word[i] == word[j] and i != j:\n",
        "        ret = True\n",
        "        break\n",
        "    if ret == True:\n",
        "      break\n",
        "\n",
        "  return ret"
      ],
      "metadata": {
        "id": "AAVK6pUX5pVY"
      },
      "execution_count": 2,
      "outputs": []
    },
    {
      "cell_type": "code",
      "source": [
        "def FindHighestFreqWord(words_list):\n",
        "  #wt_words = webtext.words('wine.txt')\n",
        "  wt_words = webtext.words() + abc.words()\n",
        "  #words = 'fruit with good wine this very' #['fruit', 'with', 'good', 'wine', 'this', 'very']\n",
        "  #wt_words = nltk.tokenize.word_tokenize(words)\n",
        "  data_analysis = nltk.FreqDist(wt_words)\n",
        "\n",
        "  # Let's take the specific words only if their frequency is greater than 3.\n",
        "  #filter_words = dict([(m, n) for m, n in data_analysis.items() if len(m) > 3])\n",
        "  filter_words = dict([(m, n) for m, n in data_analysis.items() ])\n",
        "\n",
        "  #print('filter_words len=', len(filter_words))\n",
        "\n",
        "  highestFreqWord = ''\n",
        "  highestFreq = 0\n",
        "  for word in words_list:\n",
        "    for key in sorted(filter_words):\n",
        "      if word == key and highestFreq < filter_words[key]: # and SameLetterInWord(word) == False:\n",
        "        highestFreqWord = key\n",
        "        highestFreq = filter_words[key]\n",
        "\n",
        "  return highestFreqWord, highestFreq"
      ],
      "metadata": {
        "id": "v1xLrEfeadVh"
      },
      "execution_count": 3,
      "outputs": []
    },
    {
      "cell_type": "markdown",
      "source": [
        "# Bot Main Body\n",
        "Taken from a blog 'Solving Wordle puzzles with Python' (https://mathspp.com/blog/solving-wordle-with-python)"
      ],
      "metadata": {
        "id": "HM0C1kVMlliS"
      }
    },
    {
      "cell_type": "code",
      "execution_count": 4,
      "metadata": {
        "id": "DipBeic3w8Dr"
      },
      "outputs": [],
      "source": [
        "\"\"\"\n",
        "Solving Wordle puzzles with Python.\n",
        "See https://mathspp.com/blog/solving-wordle-with-python for an article on this.\n",
        "\"\"\"\n",
        "\n",
        "import collections\n",
        "import enum\n",
        "import random\n",
        "\n",
        "\n",
        "class Tip(enum.Enum):\n",
        "    ABSENT = 0\n",
        "    PRESENT = 1\n",
        "    CORRECT = 2\n",
        "\n",
        "\n",
        "def score(secret, guess):\n",
        "    \"\"\"Scores a guess word when compared to a secret word.\n",
        "\n",
        "    Makes sure that characters aren't over-counted when they are correct.\n",
        "    For example, a careless implementation would flag the first “s”\n",
        "    of “swiss” as PRESENT if the secret word were “chess”.\n",
        "    However, the first “s” must be flagged as ABSENT.\n",
        "\n",
        "    To account for this, we start by computing a pool of all the relevant characters\n",
        "    and then make sure to remove them as they get used.\n",
        "    \"\"\"\n",
        "\n",
        "    # All characters that are not correct go into the usable pool.\n",
        "    pool = collections.Counter(s for s, g in zip(secret, guess) if s != g)\n",
        "    # Create a first tentative score by comparing char by char.\n",
        "    score = []\n",
        "    for secret_char, guess_char in zip(secret, guess):\n",
        "        if secret_char == guess_char:\n",
        "            score.append(Tip.CORRECT)\n",
        "        elif guess_char in secret and pool[guess_char] > 0:\n",
        "            score.append(Tip.PRESENT)\n",
        "            pool[guess_char] -= 1\n",
        "        else:\n",
        "            score.append(Tip.ABSENT)\n",
        "\n",
        "    return score\n",
        "\n",
        "\n",
        "def filter_words(words, guess, score):\n",
        "    \"\"\"Filter words to only keep those that respect the score for the given guess.\"\"\"\n",
        "\n",
        "    #i = 0 #Debug\n",
        "    new_words = []\n",
        "    for word in words:\n",
        "        # The pool of characters that account for the PRESENT ones is all the characters\n",
        "        # that do not correspond to CORRECT positions.\n",
        "        pool = collections.Counter(c for c, sc in zip(word, score) if sc != Tip.CORRECT)\n",
        "        #if i < 5:\n",
        "          #print('DEBUG: pool', pool, ' word: ', word, ' score: ', score)\n",
        "          #i += 1\n",
        "\n",
        "        for char_w, char_g, sc in zip(word, guess, score):\n",
        "            if sc == Tip.CORRECT and char_w != char_g:\n",
        "                break  # Word doesn't have the CORRECT character.\n",
        "            elif char_w == char_g and sc != Tip.CORRECT:\n",
        "                break  # If the guess isn't CORRECT, no point in having equal chars.\n",
        "            elif sc == Tip.PRESENT:\n",
        "                if not pool[char_g]:\n",
        "                    break  # Word doesn't have this PRESENT character.\n",
        "                pool[char_g] -= 1\n",
        "            elif sc == Tip.ABSENT and pool[char_g]:\n",
        "                break  # ABSENT character shouldn't be here.\n",
        "        else: # for-else => https://stackoverflow.com/questions/9979970/why-does-python-use-else-after-for-and-while-loops\n",
        "            new_words.append(word)  # No `break` was hit, so store the word.\n",
        "\n",
        "    return new_words\n",
        "\n",
        "\n",
        "def get_random_word(words):\n",
        "    print(f\"I'll guess randomly from my pool of {len(words)} words...\")\n",
        "    sample = \", \".join(words[:8])\n",
        "    end = \", among others...\" if len(words) > 8 else \".\"\n",
        "    print(f\"I'm considering {sample}{end}\")\n",
        "    guess = random.choice(words)\n",
        "    print(f\"Hmmm, I'll guess {guess!r}...\")\n",
        "    return guess\n",
        "\n",
        "\n",
        "def get_user_choice_word(words, first_guess):\n",
        "    print(f\"I'll guess randomly from my pool of {len(words)} words...\")\n",
        "    sample = \", \".join(words[:10])\n",
        "    end = \", among others...\" if len(words) > 10 else \".\"\n",
        "    print(f\"You have {sample}{end}\")\n",
        "\n",
        "    if len(words) > 10 and first_guess == False:\n",
        "      #guess = random.choice(words)\n",
        "      #print(f\"Hmmm, I'll guess {guess!r}...\")\n",
        "      highestFreqWord, highestFreq = FindHighestFreqWord(words)\n",
        "      if highestFreqWord != '':\n",
        "        print(f\"Hmmm, I'll guess \\'{highestFreqWord}\\' with frequency of {highestFreq!r}...\")\n",
        "        guess = highestFreqWord\n",
        "      else:\n",
        "        while True:\n",
        "          guess = input('Which word will you choose? (Please type out the word): ').lower()\n",
        "          if guess in words:\n",
        "            break\n",
        "          else:\n",
        "            print(\"You have not key in the word in the recommended list. Please choose one word from the recommended list.\")\n",
        "    else:\n",
        "      if first_guess == False:\n",
        "        highestFreqWord, highestFreq = FindHighestFreqWord(words)\n",
        "        if highestFreqWord != '':\n",
        "          print(f\"Hmmm, the highest frequency word is \\'{highestFreqWord}\\' with frequency of {highestFreq!r}...\")\n",
        "\n",
        "      while True:\n",
        "        guess = input('Which word will you choose? (Please type out the word): ').lower()\n",
        "        if guess in words:\n",
        "          break\n",
        "        else:\n",
        "          print(\"You have not key in the word in the recommended list. Please choose one word from the recommended list.\")\n",
        "\n",
        "    return guess\n",
        "\n",
        "def get_user_choice_word2(words, first_guess):\n",
        "    print(f\"I'll guess randomly from my pool of {len(words)} words...\")\n",
        "    sample = \", \".join(words[:10])\n",
        "    end = \", among others...\" if len(words) > 10 else \".\"\n",
        "    print(f\"You have {sample}{end}\")\n",
        "\n",
        "    if first_guess == False:\n",
        "      highestFreqWord, highestFreq = FindHighestFreqWord(words)\n",
        "      if highestFreqWord != '':\n",
        "        print(f\"Hmmm, the highest frequency word is \\'{highestFreqWord}\\' with frequency of {highestFreq!r}...\")\n",
        "\n",
        "    while True:\n",
        "      guess = input('Which word will you choose? (Please type out the word): ').lower()\n",
        "      if guess in words:\n",
        "        break\n",
        "      else:\n",
        "        print(\"You have not key in the word in the recommended list. Please choose one word from the recommended list.\")\n",
        "\n",
        "    return guess\n",
        "\n",
        "\n",
        "def play_against_computer(words):\n",
        "    print(\"Write your secret word:\")\n",
        "    secret = input(\">>> \")\n",
        "\n",
        "    words = [word for word in words if len(word) == len(secret)]\n",
        "    while len(words) > 1:\n",
        "        guess = get_random_word(words)\n",
        "        sc = score(secret, guess)\n",
        "        print(f\"\\tMy guess scored {sc}...\")\n",
        "        words = filter_words(words, guess, sc)\n",
        "        print()\n",
        "\n",
        "    return words\n",
        "\n",
        "\n",
        "def play_with_computer(words):\n",
        "    #print(\"What's the length of the secret word?\")\n",
        "    #length = int(input(\">>> \"))\n",
        "    length = 5\n",
        "    words = [word for word in words if len(word) == length]\n",
        "\n",
        "    mapping = {\"0\": Tip.ABSENT, \"1\": Tip.PRESENT, \"2\": Tip.CORRECT}\n",
        "    print(f\"\\nNOTE: when typing scores, use {mapping}.\\n\")\n",
        "\n",
        "    # Derived from bottom cells, see section \"Find the highest frequencies letters and form possible start words\"\n",
        "    print(\"Ideal start words: aloes, arise, arles, arose, aster, earls, lares, laser, lears, raise, rales, rates, reals, serai, seral, stare, stoae, tares, tears, toeas\\n\")\n",
        "\n",
        "    first_guess = True\n",
        "    while len(words) > 1:\n",
        "        #guess = get_random_word(words)\n",
        "        guess = get_user_choice_word2(words, first_guess)\n",
        "        first_guess = False\n",
        "        print(\"How did this guess score?\")\n",
        "\n",
        "        while True:\n",
        "          user_input = input(\">>> \")\n",
        "          if user_input.isnumeric() == True and int(user_input) >= 0 and int(user_input) <= 22222:\n",
        "            break\n",
        "          else:\n",
        "            print(f\"\\nPlease key in the scores, use {mapping}.\\n\")\n",
        "            print(\"How did this guess score?\")\n",
        "\n",
        "        sc = [mapping[char] for char in user_input if char in mapping]\n",
        "        words = filter_words(words, guess, sc)\n",
        "        print()\n",
        "\n",
        "    return words"
      ]
    },
    {
      "cell_type": "markdown",
      "source": [
        "# Mount and Link to Google Drive\n",
        "\n",
        "Ensure \"WORD.LST\" is in \"My Drive/Wordle\" folder.  This \"WORD.LST\" is taken from the blog author Github (https://github.com/rodrigogiraoserrao/projects/blob/master/misc/WORD.LST)"
      ],
      "metadata": {
        "id": "kiUIKF0jlkLu"
      }
    },
    {
      "cell_type": "code",
      "source": [
        "from google.colab import drive\n",
        "drive.mount('/content/GDrive')"
      ],
      "metadata": {
        "colab": {
          "base_uri": "https://localhost:8080/"
        },
        "id": "BaOII5a-xEuj",
        "outputId": "f09ea360-a900-47f8-d4a2-670dbe1199bf"
      },
      "execution_count": 5,
      "outputs": [
        {
          "output_type": "stream",
          "name": "stdout",
          "text": [
            "Drive already mounted at /content/GDrive; to attempt to forcibly remount, call drive.mount(\"/content/GDrive\", force_remount=True).\n"
          ]
        }
      ]
    },
    {
      "cell_type": "markdown",
      "source": [
        "Copy the \"WORD.LST\" to current Colab working drive for easy access."
      ],
      "metadata": {
        "id": "I2rzkbnFmoIX"
      }
    },
    {
      "cell_type": "code",
      "source": [
        "!cp /content/GDrive/My\\ Drive/Wordle/WORD.LST ."
      ],
      "metadata": {
        "id": "PlKbBsx_xGz6"
      },
      "execution_count": 6,
      "outputs": []
    },
    {
      "cell_type": "markdown",
      "source": [
        "# Running Wordle Bot"
      ],
      "metadata": {
        "id": "j0CH0FL8ngCi"
      }
    },
    {
      "cell_type": "code",
      "source": [
        "if __name__ == \"__main__\":\n",
        "\n",
        "    while True:\n",
        "      WORD_LST = \"WORD.LST\"  # Point to a file with a word per line.\n",
        "\n",
        "      with open(WORD_LST, \"r\") as f:\n",
        "          words = [word.strip() for word in f.readlines()]\n",
        "\n",
        "      # Commented away so that directly go to play with computer mode\n",
        "      #print(\"Do you want [h]elp, or do you want to play [a]gainst the computer?\")\n",
        "      #option = input(\"[h/a] >>> \")\n",
        "      #if option.strip().lower() == \"h\":\n",
        "      #    words = play_with_computer(words)\n",
        "      #else:\n",
        "      #    words = play_against_computer(words)\n",
        "      words = play_with_computer(words)\n",
        "\n",
        "      if not words:\n",
        "        print(\"I don't know any words that could solve the puzzle...\")\n",
        "        print(\"You may have key in the score or word wronly...\\nRestarting the game\")\n",
        "      else:\n",
        "        break\n",
        "\n",
        "    print(f\"The secret word is {words[0]!r}!\")\n",
        "    print()\n",
        "    wordle_word = words[0]"
      ],
      "metadata": {
        "colab": {
          "base_uri": "https://localhost:8080/"
        },
        "id": "PA_mHLpfxB9t",
        "outputId": "1f621340-606b-4aae-8937-616d6c7924df"
      },
      "execution_count": 7,
      "outputs": [
        {
          "output_type": "stream",
          "name": "stdout",
          "text": [
            "\n",
            "NOTE: when typing scores, use {'0': <Tip.ABSENT: 0>, '1': <Tip.PRESENT: 1>, '2': <Tip.CORRECT: 2>}.\n",
            "\n",
            "Ideal start words: aloes, arise, arles, arose, aster, earls, lares, laser, lears, raise, rales, rates, reals, serai, seral, stare, stoae, tares, tears, toeas\n",
            "\n",
            "I'll guess randomly from my pool of 8672 words...\n",
            "You have aahed, aalii, aargh, abaca, abaci, aback, abaft, abaka, abamp, abase, among others...\n",
            "Which word will you choose? (Please type out the word): arise\n",
            "How did this guess score?\n",
            ">>> 02100\n",
            "\n",
            "I'll guess randomly from my pool of 16 words...\n",
            "You have broil, bruin, bruit, croci, droid, droit, druid, fruit, groin, iroko, among others...\n",
            "Hmmm, the highest frequency word is 'fruit' with frequency of 615...\n",
            "Which word will you choose? (Please type out the word): fruit\n",
            "How did this guess score?\n",
            ">>> 02022\n",
            "\n",
            "I'll guess randomly from my pool of 2 words...\n",
            "You have droit, orbit.\n",
            "Hmmm, the highest frequency word is 'orbit' with frequency of 77...\n",
            "Which word will you choose? (Please type out the word): orbit\n",
            "How did this guess score?\n",
            ">>> 22222\n",
            "\n",
            "The secret word is 'orbit'!\n",
            "\n"
          ]
        }
      ]
    },
    {
      "cell_type": "markdown",
      "source": [
        "# The meaning of Wordle Word\n",
        "\n",
        "If you have solved the Wordle puzzle, please run this cell to find out the meaning of this word from www.vocabulary.com"
      ],
      "metadata": {
        "id": "doiHNtjei8nX"
      }
    },
    {
      "cell_type": "code",
      "source": [
        "from IPython.display import IFrame\n",
        "\n",
        "# Taken from https://stackoverflow.com/questions/51576756/display-render-an-html-file-inside-jupyter-notebook-on-google-colab-platform\n",
        "url = \"https://www.vocabulary.com/dictionary/\" + wordle_word + \"\"\n",
        "print(url)\n",
        "IFrame(src=url, width=900, height=600)"
      ],
      "metadata": {
        "colab": {
          "base_uri": "https://localhost:8080/",
          "height": 638
        },
        "id": "ME0HLZVpisrk",
        "outputId": "11f3017f-f534-4fa0-ff2a-b6c454c7bc9a"
      },
      "execution_count": 8,
      "outputs": [
        {
          "output_type": "stream",
          "name": "stdout",
          "text": [
            "https://www.vocabulary.com/dictionary/orbit\n"
          ]
        },
        {
          "output_type": "execute_result",
          "data": {
            "text/plain": [
              "<IPython.lib.display.IFrame at 0x7b3df7727ca0>"
            ],
            "text/html": [
              "\n",
              "        <iframe\n",
              "            width=\"900\"\n",
              "            height=\"600\"\n",
              "            src=\"https://www.vocabulary.com/dictionary/orbit\"\n",
              "            frameborder=\"0\"\n",
              "            allowfullscreen\n",
              "            \n",
              "        ></iframe>\n",
              "        "
            ]
          },
          "metadata": {},
          "execution_count": 8
        }
      ]
    },
    {
      "cell_type": "markdown",
      "source": [
        "# Find the highest frequencies letters and form possible start words\n",
        "\n",
        "Below is some functions to help to find the best start words for Wordle by finding:\n",
        "1. The alphabets which has highest frequency in 'WORD.LST':\n",
        "\n",
        "* s = 4526 count\n",
        "* e = 4475 count\n",
        "* a = 3864 count\n",
        "* o = 2891 count\n",
        "* r = 2844 count\n",
        "* i = 2552 count\n",
        "* l = 2378 count\n",
        "* t = 2271 count\n",
        "\n",
        "\n",
        "2. The 5 letter words which has the above alphabets.  Hence, possible start words:\n",
        "* arose\n",
        "* arise\n",
        "* stare\n",
        "* store\n",
        "* lears\n",
        "* slate\n",
        "* riots\n",
        "\n",
        "\n",
        "\n",
        "\n"
      ],
      "metadata": {
        "id": "Iq6Yaba0smls"
      }
    },
    {
      "cell_type": "code",
      "source": [
        "WORD_LST = \"WORD.LST\"  # Point to a file with a word per line.\n",
        "\n",
        "alphabet_count = {'a':0, 'b':0, 'c':0, 'd':0, 'e':0, 'f':0, 'g':0, 'h':0, 'i':0, 'j':0, 'k':0, 'l':0, 'm':0, 'n':0, 'o':0, 'p':0, 'q':0, 'r':0, 's':0, 't':0, 'u':0, 'v':0, 'w':0, 'x':0, 'y':0, 'z':0 }\n",
        "\n",
        "# Get the possible model answers\n",
        "with open(WORD_LST, \"r\") as f:\n",
        "    words = [word.strip() for word in f.readlines()]\n",
        "\n",
        "for each_word in words:\n",
        "  if len(each_word) == 5: # Only consider words that is length of 5 letters\n",
        "    letters_each_word = list(each_word)\n",
        "    for letter in letters_each_word:\n",
        "      alphabet_count[letter] += 1\n",
        "\n",
        "# sort the highest frequest letter\n",
        "my_sort = sorted(alphabet_count.items(), key=lambda item: item[1], reverse=True)\n",
        "print(my_sort)"
      ],
      "metadata": {
        "colab": {
          "base_uri": "https://localhost:8080/"
        },
        "id": "QM-flarVlUfO",
        "outputId": "52eb4869-b7dc-4c30-ffcc-80dd87b4099e"
      },
      "execution_count": 9,
      "outputs": [
        {
          "output_type": "stream",
          "name": "stdout",
          "text": [
            "[('s', 4526), ('e', 4475), ('a', 3864), ('o', 2891), ('r', 2844), ('i', 2552), ('l', 2378), ('t', 2271), ('n', 1968), ('d', 1685), ('u', 1637), ('c', 1449), ('p', 1361), ('y', 1352), ('m', 1299), ('h', 1178), ('g', 1067), ('b', 1039), ('k', 921), ('f', 770), ('w', 682), ('v', 466), ('z', 233), ('x', 203), ('j', 174), ('q', 75)]\n"
          ]
        }
      ]
    },
    {
      "cell_type": "code",
      "source": [
        "start_words = []\n",
        "for each_word in words:\n",
        "  if len(each_word) == 5 and SameLetterInWord(each_word) == False:\n",
        "    if my_sort[0][0] in each_word and my_sort[1][0] in each_word and my_sort[2][0] in each_word:\n",
        "      if my_sort[3][0] in each_word:\n",
        "\n",
        "        if my_sort[4][0] in each_word:\n",
        "          start_words.append(each_word)\n",
        "\n",
        "        if my_sort[5][0] in each_word:\n",
        "          start_words.append(each_word)\n",
        "\n",
        "        if my_sort[6][0] in each_word:\n",
        "          start_words.append(each_word)\n",
        "\n",
        "        if my_sort[7][0] in each_word:\n",
        "          start_words.append(each_word)\n",
        "\n",
        "      if my_sort[4][0] in each_word:\n",
        "\n",
        "        if my_sort[5][0] in each_word:\n",
        "          start_words.append(each_word)\n",
        "\n",
        "        if my_sort[6][0] in each_word:\n",
        "          start_words.append(each_word)\n",
        "\n",
        "        if my_sort[7][0] in each_word:\n",
        "          start_words.append(each_word)\n",
        "\n",
        "\n",
        "print(start_words)\n",
        ""
      ],
      "metadata": {
        "id": "U_WKVJ0GHDDx",
        "colab": {
          "base_uri": "https://localhost:8080/"
        },
        "outputId": "d6521ed4-237b-4c42-aa3f-96bb1077d47a"
      },
      "execution_count": 10,
      "outputs": [
        {
          "output_type": "stream",
          "name": "stdout",
          "text": [
            "['aloes', 'arise', 'arles', 'arose', 'aster', 'earls', 'lares', 'laser', 'lears', 'raise', 'rales', 'rates', 'reals', 'serai', 'seral', 'stare', 'stoae', 'tares', 'tears', 'toeas']\n"
          ]
        }
      ]
    }
  ]
}